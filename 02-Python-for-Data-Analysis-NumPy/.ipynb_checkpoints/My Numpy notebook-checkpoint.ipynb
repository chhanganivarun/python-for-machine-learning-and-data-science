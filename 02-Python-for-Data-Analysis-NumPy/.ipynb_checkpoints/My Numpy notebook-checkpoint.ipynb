{
 "cells": [
  {
   "cell_type": "code",
   "execution_count": 1,
   "metadata": {},
   "outputs": [],
   "source": [
    "%matplotlib inline\n",
    "import numpy as np\n",
    "from matplotlib import mlab as mlab\n",
    "from matplotlib import pyplot as plt"
   ]
  },
  {
   "cell_type": "code",
   "execution_count": 2,
   "metadata": {},
   "outputs": [
    {
     "data": {
      "text/plain": [
       "array([[1., 0.],\n",
       "       [0., 1.],\n",
       "       [0., 0.],\n",
       "       [0., 0.]])"
      ]
     },
     "execution_count": 2,
     "metadata": {},
     "output_type": "execute_result"
    }
   ],
   "source": [
    "np.eye(4,2)"
   ]
  },
  {
   "cell_type": "code",
   "execution_count": 15,
   "metadata": {},
   "outputs": [],
   "source": [
    "n = 10000\n",
    "arr = np.random.rand(n)"
   ]
  },
  {
   "cell_type": "code",
   "execution_count": 17,
   "metadata": {},
   "outputs": [
    {
     "data": {
      "text/plain": [
       "(array([103.,  94., 126.,  97., 108., 111.,  96.,  99., 105., 102.,  90.,\n",
       "         93.,  84., 110., 103.,  98.,  92.,  98., 108.,  87.,  98.,  95.,\n",
       "         97., 100., 100.,  94., 112.,  85., 118.,  69.,  99., 100., 107.,\n",
       "        131., 109., 113., 108.,  93.,  89.,  96., 110.,  98.,  97., 104.,\n",
       "         99., 100., 102., 118.,  96.,  93., 113.,  89.,  95., 103., 113.,\n",
       "         87.,  96.,  96.,  86., 107., 103., 115.,  97., 106.,  82.,  95.,\n",
       "         92., 103.,  99., 125., 112., 107.,  73., 100., 112., 106.,  94.,\n",
       "         99., 101.,  96.,  86., 105., 119.,  95.,  95., 112.,  84.,  87.,\n",
       "         91.,  99., 114., 101.,  85., 103., 103., 108., 117.,  86.,  86.,\n",
       "         88.]),\n",
       " array([5.81593031e-05, 1.00570816e-02, 2.00560038e-02, 3.00549261e-02,\n",
       "        4.00538484e-02, 5.00527707e-02, 6.00516929e-02, 7.00506152e-02,\n",
       "        8.00495375e-02, 9.00484598e-02, 1.00047382e-01, 1.10046304e-01,\n",
       "        1.20045227e-01, 1.30044149e-01, 1.40043071e-01, 1.50041993e-01,\n",
       "        1.60040916e-01, 1.70039838e-01, 1.80038760e-01, 1.90037682e-01,\n",
       "        2.00036605e-01, 2.10035527e-01, 2.20034449e-01, 2.30033372e-01,\n",
       "        2.40032294e-01, 2.50031216e-01, 2.60030138e-01, 2.70029061e-01,\n",
       "        2.80027983e-01, 2.90026905e-01, 3.00025827e-01, 3.10024750e-01,\n",
       "        3.20023672e-01, 3.30022594e-01, 3.40021517e-01, 3.50020439e-01,\n",
       "        3.60019361e-01, 3.70018283e-01, 3.80017206e-01, 3.90016128e-01,\n",
       "        4.00015050e-01, 4.10013972e-01, 4.20012895e-01, 4.30011817e-01,\n",
       "        4.40010739e-01, 4.50009662e-01, 4.60008584e-01, 4.70007506e-01,\n",
       "        4.80006428e-01, 4.90005351e-01, 5.00004273e-01, 5.10003195e-01,\n",
       "        5.20002117e-01, 5.30001040e-01, 5.39999962e-01, 5.49998884e-01,\n",
       "        5.59997807e-01, 5.69996729e-01, 5.79995651e-01, 5.89994573e-01,\n",
       "        5.99993496e-01, 6.09992418e-01, 6.19991340e-01, 6.29990262e-01,\n",
       "        6.39989185e-01, 6.49988107e-01, 6.59987029e-01, 6.69985952e-01,\n",
       "        6.79984874e-01, 6.89983796e-01, 6.99982718e-01, 7.09981641e-01,\n",
       "        7.19980563e-01, 7.29979485e-01, 7.39978407e-01, 7.49977330e-01,\n",
       "        7.59976252e-01, 7.69975174e-01, 7.79974097e-01, 7.89973019e-01,\n",
       "        7.99971941e-01, 8.09970863e-01, 8.19969786e-01, 8.29968708e-01,\n",
       "        8.39967630e-01, 8.49966552e-01, 8.59965475e-01, 8.69964397e-01,\n",
       "        8.79963319e-01, 8.89962242e-01, 8.99961164e-01, 9.09960086e-01,\n",
       "        9.19959008e-01, 9.29957931e-01, 9.39956853e-01, 9.49955775e-01,\n",
       "        9.59954697e-01, 9.69953620e-01, 9.79952542e-01, 9.89951464e-01,\n",
       "        9.99950387e-01]),\n",
       " <a list of 100 Patch objects>)"
      ]
     },
     "execution_count": 17,
     "metadata": {},
     "output_type": "execute_result"
    },
    {
     "data": {
      "image/png": "[encoded data removed]",
      "text/plain": [
       "<Figure size 432x288 with 1 Axes>"
      ]
     },
     "metadata": {
      "needs_background": "light"
     },
     "output_type": "display_data"
    }
   ],
   "source": [
    "bins = 100\n",
    "plt.hist(arr,bins)"
   ]
  },
  {
   "cell_type": "code",
   "execution_count": 1,
   "metadata": {
    "scrolled": false
   },
   "outputs": [
    {
     "ename": "NameError",
     "evalue": "name 'np' is not defined",
     "output_type": "error",
     "traceback": [
      "\u001b[0;31m---------------------------------------------------------------------------\u001b[0m",
      "\u001b[0;31mNameError\u001b[0m                                 Traceback (most recent call last)",
      "\u001b[0;32m<ipython-input-1-700f1f79893c>\u001b[0m in \u001b[0;36m<module>\u001b[0;34m\u001b[0m\n\u001b[1;32m      1\u001b[0m \u001b[0mn\u001b[0m \u001b[0;34m=\u001b[0m \u001b[0;36m10000\u001b[0m\u001b[0;34m\u001b[0m\u001b[0;34m\u001b[0m\u001b[0m\n\u001b[0;32m----> 2\u001b[0;31m \u001b[0marr\u001b[0m \u001b[0;34m=\u001b[0m \u001b[0mnp\u001b[0m\u001b[0;34m.\u001b[0m\u001b[0mrandom\u001b[0m\u001b[0;34m.\u001b[0m\u001b[0mrandn\u001b[0m\u001b[0;34m(\u001b[0m\u001b[0mn\u001b[0m\u001b[0;34m)\u001b[0m\u001b[0;34m\u001b[0m\u001b[0;34m\u001b[0m\u001b[0m\n\u001b[0m\u001b[1;32m      3\u001b[0m \u001b[0mbins\u001b[0m \u001b[0;34m=\u001b[0m \u001b[0;36m1000\u001b[0m\u001b[0;34m\u001b[0m\u001b[0;34m\u001b[0m\u001b[0m\n\u001b[1;32m      4\u001b[0m \u001b[0mplt\u001b[0m\u001b[0;34m.\u001b[0m\u001b[0mhist\u001b[0m\u001b[0;34m(\u001b[0m\u001b[0marr\u001b[0m\u001b[0;34m,\u001b[0m\u001b[0mbins\u001b[0m\u001b[0;34m)\u001b[0m\u001b[0;34m\u001b[0m\u001b[0;34m\u001b[0m\u001b[0m\n",
      "\u001b[0;31mNameError\u001b[0m: name 'np' is not defined"
     ]
    }
   ],
   "source": [
    "n = 10000\n",
    "arr = np.random.randn(n)\n",
    "bins = 1000\n",
    "plt.hist(arr,bins)"
   ]
  },
  {
   "cell_type": "code",
   "execution_count": 31,
   "metadata": {},
   "outputs": [
    {
     "name": "stdout",
     "output_type": "stream",
     "text": [
      "0.000665667349911432 0.9973142311416552\n"
     ]
    }
   ],
   "source": [
    "mean = sum(arr)/n\n",
    "var = sum(list(map(lambda x: x**2,arr)))/(n-1)\n",
    "print(mean,var)"
   ]
  },
  {
   "cell_type": "code",
   "execution_count": null,
   "metadata": {},
   "outputs": [],
   "source": []
  }
 ],
 "metadata": {
  "kernelspec": {
   "display_name": "Python 3",
   "language": "python",
   "name": "python3"
  },
  "language_info": {
   "codemirror_mode": {
    "name": "ipython",
    "version": 3
   },
   "file_extension": ".py",
   "mimetype": "text/x-python",
   "name": "python",
   "nbconvert_exporter": "python",
   "pygments_lexer": "ipython3",
   "version": "3.6.8"
  }
 },
 "nbformat": 4,
 "nbformat_minor": 2
}
